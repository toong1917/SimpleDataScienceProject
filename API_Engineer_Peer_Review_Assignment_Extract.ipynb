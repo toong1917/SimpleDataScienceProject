{
 "cells": [
  {
   "cell_type": "markdown",
   "metadata": {},
   "source": [
    "<p style=\"text-align:center\">\n",
    "    <a href=\"https://skills.network/?utm_medium=Exinfluencer&utm_source=Exinfluencer&utm_content=000026UJ&utm_term=10006555&utm_id=NA-SkillsNetwork-Channel-SkillsNetworkCoursesIBMDeveloperSkillsNetworkPY0221ENSkillsNetwork23455645-2022-01-01\" target=\"_blank\">\n",
    "    <img src=\"https://cf-courses-data.s3.us.cloud-object-storage.appdomain.cloud/assets/logos/SN_web_lightmode.png\" width=\"200\" alt=\"Skills Network Logo\"  />\n",
    "    </a>\n",
    "</p>\n"
   ]
  },
  {
   "cell_type": "markdown",
   "metadata": {},
   "source": [
    "# Peer Review Assignment - Data Engineer - Extract API Data\n"
   ]
  },
  {
   "cell_type": "markdown",
   "metadata": {},
   "source": [
    "Estimated time needed: **20** minutes\n"
   ]
  },
  {
   "cell_type": "markdown",
   "metadata": {},
   "source": [
    "## Objectives\n",
    "\n",
    "In this part you will:\n",
    "\n",
    "*   Collect exchange rate data using an API\n",
    "*   Store the data as a CSV\n"
   ]
  },
  {
   "cell_type": "markdown",
   "metadata": {},
   "source": [
    "For this lab, we are going to be using Python and several Python libraries. Some of these libraries might be installed in your lab environment or in SN Labs. Others may need to be installed by you. The cells below will install these libraries when executed.\n"
   ]
  },
  {
   "cell_type": "code",
   "execution_count": null,
   "metadata": {},
   "outputs": [],
   "source": [
    "#!mamba install pandas==1.3.3 -y\n",
    "#!mamba install requests==2.26.0 -y"
   ]
  },
  {
   "cell_type": "markdown",
   "metadata": {},
   "source": [
    "## Imports\n",
    "\n",
    "Import any additional libraries you may need here.\n"
   ]
  },
  {
   "cell_type": "code",
   "execution_count": 1,
   "metadata": {},
   "outputs": [],
   "source": [
    "import requests\n",
    "import pandas as pd"
   ]
  },
  {
   "cell_type": "markdown",
   "metadata": {},
   "source": [
    "## Extract Data Using an API\n"
   ]
  },
  {
   "cell_type": "markdown",
   "metadata": {},
   "source": [
    "Using ExchangeRate-API we will extract currency exchange rate data. Use the below steps to get the access key and to get the data.\n",
    "\n",
    "1.  Open the url : [https://exchangeratesapi.io/](https://exchangeratesapi.io/?utm_medium=Exinfluencer&utm_source=Exinfluencer&utm_content=000026UJ&utm_term=10006555&utm_id=NA-SkillsNetwork-Channel-SkillsNetworkCoursesIBMDeveloperSkillsNetworkPY0221ENSkillsNetwork23455645-2022-01-01) and click on **Get Free API Key**.\n",
    "2.  Subscribe for Free plan and Sign-in with the Google Account.\n",
    "3.  Once the account is created you will be redirected to [https://apilayer.com](https://apilayer.com/?utm_medium=Exinfluencer&utm_source=Exinfluencer&utm_content=000026UJ&utm_term=10006555&utm_id=NA-SkillsNetwork-Channel-SkillsNetworkCoursesIBMDeveloperSkillsNetworkPY0221ENSkillsNetwork23455645-2022-01-01) website.\n",
    "4.  Now, click on the **user icon** and click **Account** as shown below:\n",
    "\n",
    "<img src=\"https://cf-courses-data.s3.us.cloud-object-storage.appdomain.cloud/IBMDeveloperSkillsNetwork-PY0221EN-SkillsNetwork/labs/module%206/Final%20Assignment/Images/account.png\"/>\n",
    "\n",
    "3.  Scroll down and you will get the API Key section. Copy the API key and use in the url in Question 1.\n"
   ]
  },
  {
   "cell_type": "markdown",
   "metadata": {},
   "source": [
    "### Call the API\n",
    "\n",
    "<b> Question 1</b> Using the `requests` library call the endpoint given above and save the text, remember the first few characters of the output:\n"
   ]
  },
  {
   "cell_type": "code",
   "execution_count": 2,
   "metadata": {},
   "outputs": [],
   "source": [
    "# Write your code here\n",
    "url = \"https://api.apilayer.com/exchangerates_data/latest?base=EUR&apikey=FVLAV0I94iWKBxSyNyxImWLAm8b8m0WP\"\n",
    "response = requests.get(url)"
   ]
  },
  {
   "cell_type": "markdown",
   "metadata": {},
   "source": [
    "### Save as DataFrame\n",
    "\n",
    "<b> Question 2</b>  Using the data gathered turn it into a `pandas` dataframe. The dataframe should have the Currency as the index and `Rate` as their columns. Make sure to drop unnecessary columns.\n"
   ]
  },
  {
   "cell_type": "code",
   "execution_count": 14,
   "metadata": {},
   "outputs": [
    {
     "data": {
      "text/plain": [
       "'{\\n    \"success\": true,\\n    \"timestamp\": 1658408344,\\n    \"base\": \"EUR\",\\n    \"date\": \"2022-07-21\",\\n    \"rates\": {\\n        \"AED\": 3.7703,\\n        \"AFN\": 92.666195,\\n        \"ALL\": 117.694163,\\n        \"AMD\": 425.823852,\\n        \"ANG\": 1.84915,\\n        \"AOA\": 441.731979,\\n        \"ARS\": 132.81597,\\n        \"AUD\": 1.48683,\\n        \"AWG\": 1.845094,\\n        \"AZN\": 1.741844,\\n        \"BAM\": 1.969622,\\n        \"BBD\": 2.071636,\\n        \"BDT\": 96.91284,\\n        \"BGN\": 1.959854,\\n        \"BHD\": 0.386918,\\n        \"BIF\": 2113.093899,\\n        \"BMD\": 1.026478,\\n        \"BND\": 1.430215,\\n        \"BOB\": 7.05416,\\n        \"BRL\": 5.584141,\\n        \"BSD\": 1.02605,\\n        \"BTC\": 4.5118209e-05,\\n        \"BTN\": 82.015017,\\n        \"BWP\": 13.104566,\\n        \"BYN\": 2.59044,\\n        \"BYR\": 20118.9688,\\n        \"BZD\": 2.068212,\\n        \"CAD\": 1.323536,\\n        \"CDF\": 2055.523191,\\n        \"CHF\": 0.993256,\\n        \"CLF\": 0.034278,\\n        \"CLP\": 945.848363,\\n        \"CNY\": 6.941767,\\n        \"COP\": 4470.681222,\\n        \"CRC\": 693.089788,\\n        \"CUC\": 1.026478,\\n        \"CUP\": 27.201667,\\n        \"CVE\": 111.042585,\\n        \"CZK\": 24.534892,\\n        \"DJF\": 182.669156,\\n        \"DKK\": 7.444665,\\n        \"DOP\": 55.753431,\\n        \"DZD\": 149.57863,\\n        \"EGP\": 19.436564,\\n        \"ERN\": 15.39717,\\n        \"ETB\": 53.969929,\\n        \"EUR\": 1,\\n        \"FJD\": 2.260509,\\n        \"FKP\": 0.86464,\\n        \"GBP\": 0.85677,\\n        \"GEL\": 3.017696,\\n        \"GGP\": 0.86464,\\n        \"GHS\": 8.357424,\\n        \"GIP\": 0.86464,\\n        \"GMD\": 55.522093,\\n        \"GNF\": 8900.72811,\\n        \"GTQ\": 7.938867,\\n        \"GYD\": 214.669056,\\n        \"HKD\": 8.0568,\\n        \"HNL\": 25.233347,\\n        \"HRK\": 7.5245,\\n        \"HTG\": 119.923348,\\n        \"HUF\": 399.346132,\\n        \"IDR\": 15427.091834,\\n        \"ILS\": 3.534107,\\n        \"IMP\": 0.86464,\\n        \"INR\": 81.913714,\\n        \"IQD\": 1497.527386,\\n        \"IRR\": 43471.343034,\\n        \"ISK\": 139.734558,\\n        \"JEP\": 0.86464,\\n        \"JMD\": 156.179093,\\n        \"JOD\": 0.727792,\\n        \"JPY\": 142.079977,\\n        \"KES\": 121.68883,\\n        \"KGS\": 81.789463,\\n        \"KHR\": 4196.543565,\\n        \"KMF\": 476.927329,\\n        \"KPW\": 923.830191,\\n        \"KRW\": 1343.475486,\\n        \"KWD\": 0.315571,\\n        \"KYD\": 0.855063,\\n        \"KZT\": 494.825055,\\n        \"LAK\": 15435.085507,\\n        \"LBP\": 1551.43382,\\n        \"LKR\": 372.452632,\\n        \"LRD\": 156.534125,\\n        \"LSL\": 16.259998,\\n        \"LTL\": 3.030923,\\n        \"LVL\": 0.620906,\\n        \"LYD\": 5.005955,\\n        \"MAD\": 10.450883,\\n        \"MDL\": 19.80841,\\n        \"MGA\": 4318.087779,\\n        \"MKD\": 61.541967,\\n        \"MMK\": 1899.713028,\\n        \"MNT\": 3227.924299,\\n        \"MOP\": 8.295691,\\n        \"MRO\": 366.452469,\\n        \"MUR\": 45.881756,\\n        \"MVR\": 15.756681,\\n        \"MWK\": 1053.882636,\\n        \"MXN\": 21.04903,\\n        \"MYR\": 4.575013,\\n        \"MZN\": 65.520115,\\n        \"NAD\": 16.259151,\\n        \"NGN\": 426.382293,\\n        \"NIO\": 36.788359,\\n        \"NOK\": 10.154593,\\n        \"NPR\": 131.219401,\\n        \"NZD\": 1.649134,\\n        \"OMR\": 0.394625,\\n        \"PAB\": 1.02605,\\n        \"PEN\": 3.992581,\\n        \"PGK\": 3.661943,\\n        \"PHP\": 57.857406,\\n        \"PKR\": 232.654551,\\n        \"PLN\": 4.756442,\\n        \"PYG\": 7028.742764,\\n        \"QAR\": 3.737433,\\n        \"RON\": 4.940467,\\n        \"RSD\": 117.511124,\\n        \"RUB\": 58.607406,\\n        \"RWF\": 1051.825498,\\n        \"SAR\": 3.857154,\\n        \"SBD\": 8.376028,\\n        \"SCR\": 13.423436,\\n        \"SDG\": 468.582172,\\n        \"SEK\": 10.431244,\\n        \"SGD\": 1.427569,\\n        \"SHP\": 1.413869,\\n        \"SLL\": 13518.715384,\\n        \"SOS\": 599.972918,\\n        \"SRD\": 23.330309,\\n        \"STD\": 21246.022149,\\n        \"SVC\": 8.97756,\\n        \"SYP\": 2579.056187,\\n        \"SZL\": 17.594263,\\n        \"THB\": 37.783115,\\n        \"TJS\": 10.465989,\\n        \"TMT\": 3.602938,\\n        \"TND\": 3.144613,\\n        \"TOP\": 2.4094,\\n        \"TRY\": 18.160862,\\n        \"TTD\": 6.970941,\\n        \"TWD\": 30.712737,\\n        \"TZS\": 2393.746834,\\n        \"UAH\": 30.403714,\\n        \"UGX\": 3924.783633,\\n        \"USD\": 1.026478,\\n        \"UYU\": 43.103527,\\n        \"UZS\": 11183.738226,\\n        \"VND\": 24034.98237,\\n        \"VUV\": 122.044154,\\n        \"WST\": 2.793016,\\n        \"XAF\": 660.582787,\\n        \"XAG\": 0.055157,\\n        \"XAU\": 0.000602,\\n        \"XCD\": 2.774108,\\n        \"XDR\": 0.779458,\\n        \"XOF\": 660.582787,\\n        \"XPF\": 116.145978,\\n        \"YER\": 256.875728,\\n        \"ZAR\": 17.563778,\\n        \"ZMK\": 9239.584473,\\n        \"ZMW\": 16.90441,\\n        \"ZWL\": 330.525497\\n    }\\n}\\n'"
      ]
     },
     "execution_count": 14,
     "metadata": {},
     "output_type": "execute_result"
    }
   ],
   "source": [
    "# Turn the data into a dataframe\n",
    "import json\n",
    "data = json.loads(response.text)\n",
    "df = pd.DataFrame(data)"
   ]
  },
  {
   "cell_type": "code",
   "execution_count": 12,
   "metadata": {},
   "outputs": [],
   "source": [
    "# Drop unnescessary columns\n",
    "df = df[[\"rates\"]]"
   ]
  },
  {
   "cell_type": "markdown",
   "metadata": {},
   "source": [
    "### Load the Data\n",
    "\n",
    "Using the dataframe save it as a CSV names `exchange_rates_1.csv`.\n"
   ]
  },
  {
   "cell_type": "code",
   "execution_count": 13,
   "metadata": {},
   "outputs": [],
   "source": [
    "# Save the Dataframe\n",
    "filename = \"exchange_rates_1.csv\"\n",
    "df.to_csv(filename)"
   ]
  },
  {
   "cell_type": "markdown",
   "metadata": {},
   "source": [
    "Your CSV should be in this format with more currencies\n",
    "\n",
    "|     | Rates      |\n",
    "| --- | ---------- |\n",
    "| AED | 4.398618   |\n",
    "| AFN | 92.917693  |\n",
    "| ALL | 123.099093 |\n",
    "| AMD | 621.935674 |\n",
    "| ANG | 2.149648   |\n"
   ]
  },
  {
   "cell_type": "markdown",
   "metadata": {},
   "source": [
    "## Authors\n"
   ]
  },
  {
   "cell_type": "markdown",
   "metadata": {},
   "source": [
    "Ramesh Sannareddy, Joseph Santarcangelo and Azim Hirjani\n"
   ]
  },
  {
   "cell_type": "markdown",
   "metadata": {},
   "source": [
    "### Other Contributors\n"
   ]
  },
  {
   "cell_type": "markdown",
   "metadata": {},
   "source": [
    "Rav Ahuja\n"
   ]
  },
  {
   "cell_type": "markdown",
   "metadata": {},
   "source": [
    "## Change Log\n"
   ]
  },
  {
   "cell_type": "markdown",
   "metadata": {},
   "source": [
    "| Date (YYYY-MM-DD) | Version | Changed By        | Change Description                              |\n",
    "| ----------------- | ------- | ----------------- | ----------------------------------------------- |\n",
    "| 2022-05-06        | 0.3     | Malika            | Updated instructions to get the API and the url |\n",
    "| 2021-04-15        | 0.2     | Malika            | Updated the lab from USD to EUR                 |\n",
    "| 2020-11-25        | 0.1     | Ramesh Sannareddy | Created initial version of the lab              |\n"
   ]
  },
  {
   "cell_type": "markdown",
   "metadata": {},
   "source": [
    "Copyright © 2020 IBM Corporation. This notebook and its source code are released under the terms of the [MIT License](https://cognitiveclass.ai/mit-license?utm_medium=Exinfluencer&utm_source=Exinfluencer&utm_content=000026UJ&utm_term=10006555&utm_id=NA-SkillsNetwork-Channel-SkillsNetworkCoursesIBMDeveloperSkillsNetworkPY0221ENSkillsNetwork23455645-2022-01-01&cm_mmc=Email_Newsletter-\\_-Developer_Ed%2BTech-\\_-WW_WW-\\_-SkillsNetwork-Courses-IBM-DA0321EN-SkillsNetwork-21426264&cm_mmca1=000026UJ&cm_mmca2=10006555&cm_mmca3=M12345678&cvosrc=email.Newsletter.M12345678&cvo_campaign=000026UJ).\n"
   ]
  }
 ],
 "metadata": {
  "kernelspec": {
   "display_name": "Python",
   "language": "python",
   "name": "conda-env-python-py"
  },
  "language_info": {
   "codemirror_mode": {
    "name": "ipython",
    "version": 3
   },
   "file_extension": ".py",
   "mimetype": "text/x-python",
   "name": "python",
   "nbconvert_exporter": "python",
   "pygments_lexer": "ipython3",
   "version": "3.7.12"
  }
 },
 "nbformat": 4,
 "nbformat_minor": 4
}
